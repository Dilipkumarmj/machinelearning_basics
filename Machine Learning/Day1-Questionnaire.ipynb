{
 "cells": [
  {
   "cell_type": "markdown",
   "metadata": {},
   "source": [
    "\n",
    "# Machine Lerning Questionnaire\n",
    "\n",
    "## Pre-Test         \n",
    "\n",
    "#### Day 1"
   ]
  },
  {
   "cell_type": "markdown",
   "metadata": {},
   "source": [
    "### 1.) What is mean, median and mode\n",
    "\n",
    "### 2.) What is a histogram\n",
    "\n",
    "### 3.) What is vector ?\n",
    "\n"
   ]
  },
  {
   "cell_type": "markdown",
   "metadata": {},
   "source": [
    "### 4.) Give one way to compare two vectors\n",
    "\n",
    "### 5.) What is euclidean distance or distance bewteen two vectors?\n",
    "\n",
    "### 6.) What is a data frame in pandas?\n",
    "\n"
   ]
  },
  {
   "cell_type": "markdown",
   "metadata": {},
   "source": [
    "### 7.) What is a random variable ?\n",
    "\n",
    "### 8.) A coin is tossed two times. What is a probability of getting two heads in a row ?\n",
    "\n",
    "### 9.) What is conditional probability ?\n",
    "\n",
    "### 10.) What is a standard deviation in stattistics?\n",
    "\n",
    "\n"
   ]
  },
  {
   "cell_type": "code",
   "execution_count": null,
   "metadata": {},
   "outputs": [],
   "source": []
  }
 ],
 "metadata": {
  "kernelspec": {
   "display_name": "Python 3",
   "language": "python",
   "name": "python3"
  },
  "language_info": {
   "codemirror_mode": {
    "name": "ipython",
    "version": 3
   },
   "file_extension": ".py",
   "mimetype": "text/x-python",
   "name": "python",
   "nbconvert_exporter": "python",
   "pygments_lexer": "ipython3",
   "version": "3.6.5"
  }
 },
 "nbformat": 4,
 "nbformat_minor": 2
}
