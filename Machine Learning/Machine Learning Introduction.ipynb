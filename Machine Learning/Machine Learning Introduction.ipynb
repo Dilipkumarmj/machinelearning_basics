{
 "cells": [
  {
   "cell_type": "markdown",
   "metadata": {},
   "source": [
    "# What is Machine Learning ?\n",
    "\n",
    "- ### It is the field of study that gives computers the ability to learn without being explicitly programmed.\n",
    "\n",
    "\n",
    "- ### Make computers learn from data.\n",
    "\n",
    "- ### Let input feature be the output preditor\n",
    "\n"
   ]
  },
  {
   "cell_type": "markdown",
   "metadata": {},
   "source": [
    "## Why use Machine Learning\n",
    "\n",
    "- ### Auto learning - For E.g A SPAM mail detection system\n",
    "  - Overrides rule based\n",
    "- ### Deals with very complex problems easily - For E.g speech recognition\n",
    "\n",
    "- ### Gives deep insight to human understanding - For e.g a spam system can show the right spam words."
   ]
  },
  {
   "cell_type": "markdown",
   "metadata": {},
   "source": [
    "## Types of Machine Learning system\n",
    "\n",
    "## 1. Human Supervised ?\n",
    "\n",
    "- ### Supervised\n",
    "- ### Unsupervised\n",
    "- ### Semisupervised\n",
    "- ### Reinforced\n",
    "\n"
   ]
  },
  {
   "cell_type": "markdown",
   "metadata": {},
   "source": [
    "## 1. Mode of learning ?\n",
    "\n",
    "- ### Learn incrementally called onilie\n",
    "- ### Learn batch wise called offline\n"
   ]
  },
  {
   "cell_type": "markdown",
   "metadata": {},
   "source": [
    "## Main challenges to Machine Learning\n",
    "\n",
    "- ### Inssufficient quantity of training data\n",
    "- ### Non Representative training data\n",
    "- ### Poor quality data - With lots of Noise\n",
    "- ### Irrevelant features\n",
    "- ### Overfitting data\n",
    "- ### Underfitting data"
   ]
  },
  {
   "cell_type": "code",
   "execution_count": null,
   "metadata": {},
   "outputs": [],
   "source": []
  },
  {
   "cell_type": "code",
   "execution_count": null,
   "metadata": {},
   "outputs": [],
   "source": []
  }
 ],
 "metadata": {
  "kernelspec": {
   "display_name": "Python 3",
   "language": "python",
   "name": "python3"
  },
  "language_info": {
   "codemirror_mode": {
    "name": "ipython",
    "version": 3
   },
   "file_extension": ".py",
   "mimetype": "text/x-python",
   "name": "python",
   "nbconvert_exporter": "python",
   "pygments_lexer": "ipython3",
   "version": "3.6.5"
  }
 },
 "nbformat": 4,
 "nbformat_minor": 2
}
